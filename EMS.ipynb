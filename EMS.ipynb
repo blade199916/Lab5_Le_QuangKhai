{
 "cells": [
  {
   "cell_type": "markdown",
   "metadata": {},
   "source": [
    "# Using PS GPIO with PYNQ\n",
    "\n",
    "## Goal\n",
    "\n",
    "The aim of this notebook is to show how to use the Zynq PS GPIO from PYNQ. The PS GPIO are simple wires from the PS, and don't need a controller in the programmable logic. \n",
    "\n",
    "Up to 96 input, output and tri-state PS GPIO are available via the EMIO in the Zynq Ultrascale+. They can be used to connect simple control and data signals to IP or external Inputs/Outputs in the PL. \n",
    "\n",
    "\n",
    "## Hardware \n",
    "\n",
    "This example uses a bitstream that connects PS GPIO to the PMod on the KV260.\n",
    "\n",
    "![PS GPIO Design](./ps_gpio_kv260_bd.png \"PS GPIO Design\")"
   ]
  },
  {
   "cell_type": "markdown",
   "metadata": {},
   "source": [
    "### External Peripherals\n",
    "An LED, a Slider switch and a Buzzer are connected via the Pmod connector and a Grove adapter. These will be used to demonstrate the PS GPIO are working.\n",
    "\n",
    "![](./KRIA_KV260.png)"
   ]
  },
  {
   "cell_type": "markdown",
   "metadata": {},
   "source": [
    "### Download the tutorial overlay\n",
    "\n",
    "The `ps_gpio_kv260.bit` and `ps_gpio_kv260.hwh` files are in the `ps_gpio` directory local to this folder. \n",
    "The bitstream can be downloaded using the PYNQ `Overlay` class. "
   ]
  },
  {
   "cell_type": "code",
   "execution_count": 185,
   "metadata": {},
   "outputs": [],
   "source": [
    "from pynq import Overlay\n",
    "ps_gpio_design = Overlay(\"./ps_gpio_kv260.bit\")"
   ]
  },
  {
   "cell_type": "markdown",
   "metadata": {
    "tags": []
   },
   "source": [
    "## PYNQ GPIO class\n",
    "\n",
    "The PYNQ GPIO class will be used to access the PS GPIO. "
   ]
  },
  {
   "cell_type": "code",
   "execution_count": 266,
   "metadata": {
    "tags": []
   },
   "outputs": [],
   "source": [
    "from pynq import GPIO"
   ]
  },
  {
   "cell_type": "markdown",
   "metadata": {},
   "source": [
    "### GPIO help"
   ]
  },
  {
   "cell_type": "code",
   "execution_count": null,
   "metadata": {},
   "outputs": [],
   "source": []
  },
  {
   "cell_type": "markdown",
   "metadata": {},
   "source": [
    "### Create Python GPIO objects for the led, slider and buzzer and set the direction:"
   ]
  },
  {
   "cell_type": "code",
   "execution_count": 244,
   "metadata": {},
   "outputs": [],
   "source": [
    "led =        GPIO(GPIO.get_gpio_pin(6), 'out')\n",
    "\n",
    "buzzer =     GPIO(GPIO.get_gpio_pin(0), 'out')\n",
    "\n",
    "slider =     GPIO(GPIO.get_gpio_pin(1), 'in')\n",
    "slider_led = GPIO(GPIO.get_gpio_pin(5), 'out')\n",
    "led_3     = GPIO(GPIO.get_gpio_pin(4), 'out')"
   ]
  },
  {
   "cell_type": "code",
   "execution_count": 245,
   "metadata": {},
   "outputs": [],
   "source": [
    "# = GPIO(GPIO.get_gpio_pin(2), 'out')\n",
    "# = GPIO(GPIO.get_gpio_pin(3), 'out')\n",
    "# = GPIO(GPIO.get_gpio_pin(4), 'out')\n",
    "# = GPIO(GPIO.get_gpio_pin(7), 'out')"
   ]
  },
  {
   "cell_type": "markdown",
   "metadata": {},
   "source": [
    "### led.write() help"
   ]
  },
  {
   "cell_type": "code",
   "execution_count": null,
   "metadata": {},
   "outputs": [],
   "source": []
  },
  {
   "cell_type": "markdown",
   "metadata": {},
   "source": [
    "## Test LED\n"
   ]
  },
  {
   "cell_type": "markdown",
   "metadata": {},
   "source": [
    "Turn on the LED"
   ]
  },
  {
   "cell_type": "code",
   "execution_count": null,
   "metadata": {},
   "outputs": [],
   "source": []
  },
  {
   "cell_type": "markdown",
   "metadata": {},
   "source": [
    "Turn off the LED"
   ]
  },
  {
   "cell_type": "code",
   "execution_count": null,
   "metadata": {},
   "outputs": [],
   "source": []
  },
  {
   "cell_type": "markdown",
   "metadata": {},
   "source": [
    " ## Blinky "
   ]
  },
  {
   "cell_type": "code",
   "execution_count": 246,
   "metadata": {},
   "outputs": [],
   "source": [
    "from time import sleep\n",
    "DELAY = 0.1\n",
    "\n",
    "for i in range(20):\n",
    "    led.write(0)\n",
    "    sleep(DELAY)\n",
    "    led.write(1)\n",
    "    sleep(DELAY)"
   ]
  },
  {
   "cell_type": "markdown",
   "metadata": {},
   "source": [
    "### Slider\n",
    "Read from Slider"
   ]
  },
  {
   "cell_type": "code",
   "execution_count": null,
   "metadata": {},
   "outputs": [],
   "source": []
  },
  {
   "cell_type": "code",
   "execution_count": 247,
   "metadata": {},
   "outputs": [],
   "source": [
    "for i in range(50):\n",
    "    sliver_value = slider.read()\n",
    "    slider_led.write(sliver_value)\n",
    "    led.write(sliver_value)\n",
    "    sleep(DELAY)"
   ]
  },
  {
   "cell_type": "markdown",
   "metadata": {},
   "source": [
    "### Buzzer"
   ]
  },
  {
   "cell_type": "code",
   "execution_count": 248,
   "metadata": {},
   "outputs": [],
   "source": [
    "buzzer.write(1)"
   ]
  },
  {
   "cell_type": "code",
   "execution_count": 249,
   "metadata": {},
   "outputs": [],
   "source": [
    "buzzer.write(0)"
   ]
  },
  {
   "cell_type": "code",
   "execution_count": 250,
   "metadata": {},
   "outputs": [],
   "source": [
    "def play_sound(frequency, duration=100):\n",
    "    period = 1/frequency\n",
    "    timeHigh = period/2\n",
    "    for i in range(0, int(duration)): #, int(timeHigh*1000)):\n",
    "        buzzer.write(1)\n",
    "        sleep(timeHigh)\n",
    "        buzzer.write(0)\n",
    "        sleep(timeHigh)"
   ]
  },
  {
   "cell_type": "markdown",
   "metadata": {},
   "source": [
    "Alarm clock"
   ]
  },
  {
   "cell_type": "code",
   "execution_count": 265,
   "metadata": {},
   "outputs": [],
   "source": [
    "for i in range(10):\n",
    "    play_sound(5000)\n",
    "    sleep(.1)"
   ]
  },
  {
   "cell_type": "markdown",
   "metadata": {},
   "source": [
    "### Use an IPython Widget to control the buzzer\n",
    "\n",
    "The following example uses an IPython *Integer Slider* to call the `play_sound()` method defined above"
   ]
  },
  {
   "cell_type": "code",
   "execution_count": 252,
   "metadata": {},
   "outputs": [
    {
     "data": {
      "application/vnd.jupyter.widget-view+json": {
       "model_id": "1c604e4f998b443d9f8e0a9e61e82b64",
       "version_major": 2,
       "version_minor": 0
      },
      "text/plain": [
       "interactive(children=(IntSlider(value=500, description='frequency', max=10000, min=500, step=500), IntSlider(v…"
      ]
     },
     "metadata": {},
     "output_type": "display_data"
    }
   ],
   "source": [
    "from ipywidgets import interact\n",
    "import ipywidgets as widgets\n",
    "\n",
    "interact(play_sound, frequency=widgets.IntSlider(min=500, max=10000, step=500, value=500), duration =100);"
   ]
  },
  {
   "cell_type": "code",
   "execution_count": 268,
   "metadata": {},
   "outputs": [],
   "source": [
    "## Left turn signal\n",
    "##Input 00\n",
    "\n",
    "##Left turn signal \n",
    "## Input 00\n",
    "from time import sleep\n",
    "DELAY=1\n",
    "for i in range(3):\n",
    "    led.write(0)\n",
    "    slider_led.write(0)\n",
    "    led_3.write(0)\n",
    "    sleep(DELAY)\n",
    "    \n",
    "    led_3.write(1)\n",
    "    sleep(DELAY)\n",
    "    \n",
    "    slider_led.write(1)\n",
    "    sleep(DELAY)\n",
    "    \n",
    "    led.write(1)\n",
    "    sleep(DELAY)\n",
    "    \n",
    "    led.write(0)\n",
    "    slider_led.write(0)\n",
    "    led_3.write(0)\n",
    "    "
   ]
  },
  {
   "cell_type": "code",
   "execution_count": 270,
   "metadata": {
    "tags": []
   },
   "outputs": [],
   "source": [
    "##Right turn signal \n",
    "## Input 01\n",
    "from time import sleep\n",
    "DELAY=1\n",
    "\n",
    "for i in range(3):\n",
    "    led.write(0)\n",
    "    slider_led.write(0)\n",
    "    led_3.write(0)\n",
    "    sleep(DELAY)\n",
    "    \n",
    "    led.write(1)\n",
    "    sleep(DELAY)\n",
    "    \n",
    "    slider_led.write(1)\n",
    "    sleep(DELAY)\n",
    "    \n",
    "    led_3.write(1)\n",
    "    sleep(DELAY)\n",
    "    \n",
    "    led.write(0)\n",
    "    slider_led.write(0)\n",
    "    led_3.write(0)"
   ]
  },
  {
   "cell_type": "code",
   "execution_count": 275,
   "metadata": {},
   "outputs": [
    {
     "ename": "IndentationError",
     "evalue": "unexpected indent (<ipython-input-275-35f529c321c2>, line 3)",
     "output_type": "error",
     "traceback": [
      "\u001b[0;36m  File \u001b[0;32m\"<ipython-input-275-35f529c321c2>\"\u001b[0;36m, line \u001b[0;32m3\u001b[0m\n\u001b[0;31m    led.write(1)\u001b[0m\n\u001b[0m    ^\u001b[0m\n\u001b[0;31mIndentationError\u001b[0m\u001b[0;31m:\u001b[0m unexpected indent\n"
     ]
    }
   ],
   "source": [
    "##Break\n",
    "##Input 10\n",
    "    led.write(1)\n",
    "    slider_led.write(1)\n",
    "    led_3.write(1)"
   ]
  },
  {
   "cell_type": "code",
   "execution_count": 276,
   "metadata": {
    "tags": []
   },
   "outputs": [
    {
     "ename": "KeyboardInterrupt",
     "evalue": "",
     "output_type": "error",
     "traceback": [
      "\u001b[0;31m---------------------------------------------------------------------------\u001b[0m",
      "\u001b[0;31mKeyboardInterrupt\u001b[0m                         Traceback (most recent call last)",
      "\u001b[0;32m<ipython-input-276-afc5026d7e06>\u001b[0m in \u001b[0;36m<module>\u001b[0;34m\u001b[0m\n\u001b[1;32m     13\u001b[0m     \u001b[0mslider_led\u001b[0m\u001b[0;34m.\u001b[0m\u001b[0mwrite\u001b[0m\u001b[0;34m(\u001b[0m\u001b[0;36m1\u001b[0m\u001b[0;34m)\u001b[0m\u001b[0;34m\u001b[0m\u001b[0;34m\u001b[0m\u001b[0m\n\u001b[1;32m     14\u001b[0m     \u001b[0mled_3\u001b[0m\u001b[0;34m.\u001b[0m\u001b[0mwrite\u001b[0m\u001b[0;34m(\u001b[0m\u001b[0;36m1\u001b[0m\u001b[0;34m)\u001b[0m\u001b[0;34m\u001b[0m\u001b[0;34m\u001b[0m\u001b[0m\n\u001b[0;32m---> 15\u001b[0;31m     \u001b[0msleep\u001b[0m\u001b[0;34m(\u001b[0m\u001b[0mDELAY\u001b[0m\u001b[0;34m)\u001b[0m\u001b[0;34m\u001b[0m\u001b[0;34m\u001b[0m\u001b[0m\n\u001b[0m\u001b[1;32m     16\u001b[0m \u001b[0;34m\u001b[0m\u001b[0m\n\u001b[1;32m     17\u001b[0m     \u001b[0mled\u001b[0m\u001b[0;34m.\u001b[0m\u001b[0mwrite\u001b[0m\u001b[0;34m(\u001b[0m\u001b[0;36m0\u001b[0m\u001b[0;34m)\u001b[0m\u001b[0;34m\u001b[0m\u001b[0;34m\u001b[0m\u001b[0m\n",
      "\u001b[0;31mKeyboardInterrupt\u001b[0m: "
     ]
    }
   ],
   "source": [
    "##Emergency button\n",
    "##Input 11\n",
    "from time import sleep\n",
    "DELAY=0.2\n",
    "\n",
    "for i in range (200):\n",
    "    led.write(0)\n",
    "    slider_led.write(0)\n",
    "    led_3.write(0)\n",
    "    sleep(DELAY)\n",
    "    \n",
    "    led.write(1)\n",
    "    slider_led.write(1)\n",
    "    led_3.write(1)\n",
    "    sleep(DELAY)\n",
    "    \n",
    "    led.write(0)\n",
    "    slider_led.write(0)\n",
    "    led_3.write(0)\n"
   ]
  },
  {
   "cell_type": "code",
   "execution_count": 277,
   "metadata": {
    "tags": []
   },
   "outputs": [
    {
     "ename": "NameError",
     "evalue": "name 'ed' is not defined",
     "output_type": "error",
     "traceback": [
      "\u001b[0;31m---------------------------------------------------------------------------\u001b[0m",
      "\u001b[0;31mNameError\u001b[0m                                 Traceback (most recent call last)",
      "\u001b[0;32m<ipython-input-277-d578604d5dcf>\u001b[0m in \u001b[0;36m<module>\u001b[0;34m\u001b[0m\n\u001b[1;32m     18\u001b[0m         \u001b[0mled\u001b[0m\u001b[0;34m.\u001b[0m\u001b[0mwrite\u001b[0m\u001b[0;34m(\u001b[0m\u001b[0;36m1\u001b[0m\u001b[0;34m)\u001b[0m\u001b[0;34m\u001b[0m\u001b[0;34m\u001b[0m\u001b[0m\n\u001b[1;32m     19\u001b[0m         \u001b[0msleep\u001b[0m\u001b[0;34m(\u001b[0m\u001b[0mDELAY\u001b[0m\u001b[0;34m)\u001b[0m\u001b[0;34m\u001b[0m\u001b[0;34m\u001b[0m\u001b[0m\n\u001b[0;32m---> 20\u001b[0;31m         \u001b[0med\u001b[0m\u001b[0;34m.\u001b[0m\u001b[0mwrite\u001b[0m\u001b[0;34m(\u001b[0m\u001b[0;36m0\u001b[0m\u001b[0;34m)\u001b[0m\u001b[0;34m\u001b[0m\u001b[0;34m\u001b[0m\u001b[0m\n\u001b[0m\u001b[1;32m     21\u001b[0m         \u001b[0msleep\u001b[0m\u001b[0;34m(\u001b[0m\u001b[0mDELAY\u001b[0m\u001b[0;34m)\u001b[0m\u001b[0;34m\u001b[0m\u001b[0;34m\u001b[0m\u001b[0m\n",
      "\u001b[0;31mNameError\u001b[0m: name 'ed' is not defined"
     ]
    }
   ],
   "source": [
    "## Siren with Roof RGB lights \n",
    "from time import sleep\n",
    "DELAY=0.2\n",
    "for i in range(200):\n",
    "    slider_input = slider.read()\n",
    "    if slider_input:\n",
    "        slider_led.write(0)\n",
    "        sleep(DELAY)\n",
    "        slider_led.write(1)\n",
    "        sleep(DELAY)\n",
    "        \n",
    "        play_sound(5000)\n",
    "        sleep(DELAY)\n",
    "        slider_led.write(1)\n",
    "    else:\n",
    "        led.write(0)\n",
    "        sleep(DELAY)\n",
    "        led.write(1)\n",
    "        sleep(DELAY)\n",
    "        ed.write(0)\n",
    "        sleep(DELAY)"
   ]
  },
  {
   "cell_type": "code",
   "execution_count": null,
   "metadata": {},
   "outputs": [],
   "source": []
  },
  {
   "cell_type": "code",
   "execution_count": null,
   "metadata": {},
   "outputs": [],
   "source": []
  },
  {
   "cell_type": "code",
   "execution_count": null,
   "metadata": {},
   "outputs": [],
   "source": []
  },
  {
   "cell_type": "code",
   "execution_count": null,
   "metadata": {},
   "outputs": [],
   "source": []
  }
 ],
 "metadata": {
  "kernelspec": {
   "display_name": "Python 3",
   "language": "python",
   "name": "python3"
  },
  "language_info": {
   "codemirror_mode": {
    "name": "ipython",
    "version": 3
   },
   "file_extension": ".py",
   "mimetype": "text/x-python",
   "name": "python",
   "nbconvert_exporter": "python",
   "pygments_lexer": "ipython3",
   "version": "3.8.10"
  }
 },
 "nbformat": 4,
 "nbformat_minor": 4
}
